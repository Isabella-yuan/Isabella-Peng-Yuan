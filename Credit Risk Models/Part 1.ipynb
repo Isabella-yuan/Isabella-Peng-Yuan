{
 "cells": [
  {
   "cell_type": "code",
   "execution_count": 1,
   "metadata": {},
   "outputs": [],
   "source": [
    "import numpy as np\n",
    "import pandas as pd\n",
    "from scipy.stats import norm \n",
    "import math"
   ]
  },
  {
   "cell_type": "code",
   "execution_count": 2,
   "metadata": {},
   "outputs": [],
   "source": [
    "# parameter values\n",
    "mu = 0.08\n",
    "r = 0.04\n",
    "sigma = 0.16\n",
    "q = 0.02      #discount, hazard rate\n",
    "K = 0.04      #fixed rate\n",
    "sigma2 = sigma*sigma\n",
    "num_years = 5\n",
    "recovery = 0.4\n",
    "# coupon values\n",
    "###############################################################################\n",
    "# statistical measure(real world)      \n",
    "EpR_i = mu - 0.5 * sigma2 - K\n",
    "Rp = EpR_i * np.ones(num_years)                        \n",
    "\n",
    "# risk-neutral measure\n",
    "EqR_i = r - 0.5 * sigma2 - K\n",
    "Rq = EqR_i * np.ones(num_years)                          \n",
    "\n",
    "# swap values\n",
    "###############################################################################\n",
    "# discount curve\n",
    "Z = np.exp(-r * np.arange(0, num_years + 1))          #discount factor\n",
    "PD = np.exp(-q * np.arange(0, num_years + 1))         \n",
    "\n",
    "# value (the cash flows)   #r\n",
    "discounted_cf = Z[1:] * Rq    \n",
    "# values discounted to today                              \n",
    "V = np.cumsum(discounted_cf[::-1])[::-1]         \n",
    "V_0 = V[0]\n",
    "\n",
    "# value of swap at each point in time [V(0), V(1), ..., V(num_years-1)]\n",
    "V_t = V / Z[:-1]                                            \n",
    "\n",
    "# expected exposures\n",
    "###############################################################################\n",
    "# expected exposure at end of period\n",
    "EE_e = EpR_i + V_t[1:]  # mu\n",
    "EE_s = V_t"
   ]
  },
  {
   "cell_type": "code",
   "execution_count": 3,
   "metadata": {},
   "outputs": [
    {
     "data": {
      "text/plain": [
       "array([0.10038913, 0.08188458, 0.06262485, 0.04257911, 0.02171529,\n",
       "       0.        ])"
      ]
     },
     "execution_count": 3,
     "metadata": {},
     "output_type": "execute_result"
    }
   ],
   "source": [
    "### part 1 ###\n",
    "notional_1 = 100 # notional 100m\n",
    "#r:risk neutral for valuation.  swap value, CVA, DVA\n",
    "exp_pos_v = (r - 0.5 * sigma2 - K) * norm.cdf((r - 0.5 * sigma2 - K) / (math.sqrt(5) * 0.2 * sigma)) + math.sqrt(5) * 0.2 * sigma * norm.pdf((r - 0.5 * sigma2 - K) / (math.sqrt(5) * 0.2 * sigma))\n",
    "exp_neg_v = (r - 0.5 * sigma2 - K) * norm.cdf((-r + 0.5 * sigma2 + K) / (math.sqrt(5) * 0.2 * sigma)) - math.sqrt(5) * 0.2 * sigma * norm.pdf((-r + 0.5 * sigma2 + K) / (math.sqrt(5) * 0.2 * sigma))\n",
    "\n",
    "#value\n",
    "discounted_pos_v = Z[1:] * exp_pos_v\n",
    "discounted_neg_v = Z[1:] * exp_neg_v\n",
    "#values discounted to today\n",
    "V_pos = np.cumsum(discounted_pos_v[::-1])[::-1]\n",
    "V_neg = np.cumsum(discounted_neg_v[::-1])[::-1]\n",
    "#value of swap at each point in time [V(0), V(1), ..., V(num_years-1)]\n",
    "V_pos_t = V_pos / Z[:-1]\n",
    "V_pos_t = np.append(V_pos_t, 0)\n",
    "V_neg_t = V_neg / Z[:-1]\n",
    "V_neg_t = np.append(V_neg_t, 0)\n",
    "V_pos_t"
   ]
  },
  {
   "cell_type": "code",
   "execution_count": 4,
   "metadata": {},
   "outputs": [
    {
     "data": {
      "text/plain": [
       "10.03891333879865"
      ]
     },
     "execution_count": 4,
     "metadata": {},
     "output_type": "execute_result"
    }
   ],
   "source": [
    "## value of swap at time zero\n",
    "V_0 = V_pos_t[0] * notional_1\n",
    "V_0"
   ]
  },
  {
   "cell_type": "code",
   "execution_count": 5,
   "metadata": {},
   "outputs": [],
   "source": [
    "#mu: real world measure. exposure\n",
    "exp_pos_e = (mu - 0.5 * sigma2 - K) * norm.cdf((mu - 0.5 * sigma2 - K) / (math.sqrt(5) * 0.2 * sigma)) + (math.sqrt(5) * 0.2 * sigma) * norm.pdf((mu - 0.5 * sigma2 - K) / (math.sqrt(5) * 0.2 * sigma))\n",
    "exp_neg_e = (mu - 0.5 * sigma2 - K) * norm.cdf((K - (mu - 0.5 * sigma2)) / (math.sqrt(5) * 0.2 * sigma)) - (math.sqrt(5) * 0.2 * sigma) *  norm.pdf((K - (mu - 0.5 * sigma2)) / (math.sqrt(5) * 0.2 * sigma))\n",
    "#value\n",
    "discounted_pos_e = Z[1:] * exp_pos_e\n",
    "discounted_neg_e = Z[1:] * exp_neg_e\n",
    "#values discounted to today\n",
    "E_pos = np.cumsum(discounted_pos_e[::-1])[::-1]\n",
    "E_neg = np.cumsum(discounted_neg_e[::-1])[::-1]\n",
    "#value of swap at each point in time [V(0), V(1), ..., V(num_years-1)]\n",
    "E_pos_t = E_pos / Z[:-1]\n",
    "E_pos_t = np.append(E_pos_t, 0)\n",
    "E_neg_t = E_neg / Z[:-1]\n",
    "E_neg_t = np.append(E_neg_t, 0)"
   ]
  },
  {
   "cell_type": "code",
   "execution_count": 6,
   "metadata": {},
   "outputs": [
    {
     "data": {
      "text/plain": [
       "(2.5128696766221656, 8.163861322537262, -3.13812196929293)"
      ]
     },
     "execution_count": 6,
     "metadata": {},
     "output_type": "execute_result"
    }
   ],
   "source": [
    "##EPE\n",
    "EPE = np.average(E_pos_t[1:]) * notional_1\n",
    "##ENE\n",
    "ENE = np.average(E_neg_t[1:]) * notional_1\n",
    "##EE\n",
    "EE = (np.sum(E_pos_t[1:]) + np.sum(E_neg_t[1:])) / (num_years * 2) * notional_1\n",
    "EE, EPE, ENE"
   ]
  },
  {
   "cell_type": "code",
   "execution_count": 7,
   "metadata": {},
   "outputs": [
    {
     "data": {
      "text/plain": [
       "array([0.16007713, 0.12242605, 0.0832384 , 0.04245147, 0.        ])"
      ]
     },
     "execution_count": 7,
     "metadata": {},
     "output_type": "execute_result"
    }
   ],
   "source": [
    "E_pos_t[1:]"
   ]
  },
  {
   "cell_type": "code",
   "execution_count": 8,
   "metadata": {},
   "outputs": [
    {
     "data": {
      "text/plain": [
       "15.254691813569139"
      ]
     },
     "execution_count": 8,
     "metadata": {},
     "output_type": "execute_result"
    }
   ],
   "source": [
    "## potential future exposure with 95 percentile\n",
    "PFE = np.percentile(E_pos_t[1:], 95) * notional_1\n",
    "PFE"
   ]
  },
  {
   "cell_type": "code",
   "execution_count": 9,
   "metadata": {},
   "outputs": [
    {
     "data": {
      "text/plain": [
       "0.2246059783304838"
      ]
     },
     "execution_count": 9,
     "metadata": {},
     "output_type": "execute_result"
    }
   ],
   "source": [
    "#CVA\n",
    "CVA = np.sum(PD[:-1] * (1- np.exp(-q)) * (1 - recovery) * Z[1:] * V_pos_t[1:] * notional_1)\n",
    "CVA"
   ]
  },
  {
   "cell_type": "code",
   "execution_count": 10,
   "metadata": {},
   "outputs": [
    {
     "data": {
      "text/plain": [
       "-0.3518079587932898"
      ]
     },
     "execution_count": 10,
     "metadata": {},
     "output_type": "execute_result"
    }
   ],
   "source": [
    "#DVA\n",
    "DVA = np.sum(PD[:-1] * (1- np.exp(-q)) * (1 - recovery) * Z[1:] * V_neg_t[1:] * notional_1)\n",
    "DVA"
   ]
  },
  {
   "cell_type": "code",
   "execution_count": null,
   "metadata": {},
   "outputs": [],
   "source": []
  }
 ],
 "metadata": {
  "kernelspec": {
   "display_name": "Python 3",
   "language": "python",
   "name": "python3"
  },
  "language_info": {
   "codemirror_mode": {
    "name": "ipython",
    "version": 3
   },
   "file_extension": ".py",
   "mimetype": "text/x-python",
   "name": "python",
   "nbconvert_exporter": "python",
   "pygments_lexer": "ipython3",
   "version": "3.7.4"
  }
 },
 "nbformat": 4,
 "nbformat_minor": 2
}
