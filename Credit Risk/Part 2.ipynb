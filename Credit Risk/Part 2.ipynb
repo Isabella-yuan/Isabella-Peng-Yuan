{
 "cells": [
  {
   "cell_type": "code",
   "execution_count": 13,
   "metadata": {},
   "outputs": [],
   "source": [
    "import numpy as np\n",
    "import pandas as pd\n",
    "import math"
   ]
  },
  {
   "cell_type": "code",
   "execution_count": 14,
   "metadata": {},
   "outputs": [],
   "source": [
    "# parameter values\n",
    "mu = 0.08\n",
    "r = 0.04\n",
    "sigma = 0.16\n",
    "q = 0.02      #discount, hazard rate\n",
    "K = 0.04      #fixed rate\n",
    "sigma2 = sigma*sigma\n",
    "num_years = 5\n",
    "recovery = 0.4\n",
    "notional = 100 #notional 100m\n",
    "# coupon values\n",
    "###############################################################################\n",
    "# statistical measure(real world)      \n",
    "EpR_i = mu - 0.5 * sigma2 - K\n",
    "Rp = EpR_i * np.ones(num_years)                        \n",
    "\n",
    "# risk-neutral measure\n",
    "EqR_i = r - 0.5 * sigma2 - K\n",
    "Rq = EqR_i * np.ones(num_years)                          \n",
    "\n",
    "# swap values\n",
    "###############################################################################\n",
    "# discount curve\n",
    "Z = np.exp(-r * np.arange(0, num_years + 1)) #discount factor\n",
    "Z_month = np.exp(-(r / 12) * np.arange(0, num_years * 12 + 1))\n",
    "PD = np.exp(-q * np.arange(0, num_years + 1))         #probability of default \n",
    "PD_month = np.exp(-(q / 12) * np.arange(0, num_years * 12 + 1))\n",
    "\n",
    "# value (the cash flows)   #r\n",
    "discounted_cf = Z[1:] * Rq    #discount factor * each month value    \n",
    "# values discounted to today                              \n",
    "V = np.cumsum(discounted_cf[::-1])[::-1]         \n",
    "V_0 = V[0]\n",
    "\n",
    "# value of swap at each point in time [V(0), V(1), ..., V(num_years-1)]\n",
    "V_t = V / Z[:-1]                                            \n",
    "\n",
    "# expected exposures\n",
    "###############################################################################\n",
    "# expected exposure at end of period\n",
    "EE_e = EpR_i + V_t[1:]  # mu\n",
    "EE_s = V_t"
   ]
  },
  {
   "cell_type": "code",
   "execution_count": 15,
   "metadata": {},
   "outputs": [],
   "source": [
    "# r: risk neutral measure.  swap value, CVA, DVA\n",
    "pos_v = []\n",
    "neg_v = []\n",
    "for i in range(5):\n",
    "    temp_pos_v = []\n",
    "    temp_neg_v = []\n",
    "    for j in range(2**17):\n",
    "        x = np.random.normal(0, 1)\n",
    "        coupon =  (r - 0.5 * sigma2) + math.sqrt(5) * 0.2 * sigma * x\n",
    "        if coupon >= K:\n",
    "            temp_pos_v.append(coupon - K)\n",
    "        else:\n",
    "            temp_neg_v.append(coupon - K)\n",
    "    pos_v.append(np.mean(temp_pos_v))\n",
    "    neg_v.append(np.mean(temp_neg_v))"
   ]
  },
  {
   "cell_type": "code",
   "execution_count": 16,
   "metadata": {},
   "outputs": [],
   "source": [
    "# mu: real world measure. exposure\n",
    "pos_e = []\n",
    "neg_e = []\n",
    "for i in range(5):\n",
    "    temp_pos_e = []\n",
    "    temp_neg_e = []\n",
    "    for j in range(2**17):\n",
    "        x = np.random.normal(0, 1)\n",
    "        coupon =  (mu - 0.5 * sigma2) + math.sqrt(5) * 0.2 * sigma * x\n",
    "        if coupon >= K:\n",
    "            temp_pos_e.append(coupon - K)\n",
    "        else:\n",
    "            temp_neg_e.append(coupon - K)\n",
    "    pos_e.append(np.mean(temp_pos_e))\n",
    "    neg_e.append(np.mean(temp_neg_e))"
   ]
  },
  {
   "cell_type": "code",
   "execution_count": 17,
   "metadata": {},
   "outputs": [],
   "source": [
    "#value   # r: risk neutral measure.  swap value, CVA, DVA\n",
    "discounted_pos_v = Z[1:] * pos_v\n",
    "discounted_neg_v = Z[1:] * neg_v\n",
    "#values discounted to today\n",
    "V_pos = np.cumsum(discounted_pos_v[::-1])[::-1]\n",
    "V_neg = np.cumsum(discounted_neg_v[::-1])[::-1]\n",
    "#value of swap at each point in time [V(0), V(1), ..., V(num_years-1)]\n",
    "V_pos_t = V_pos / Z[:-1]\n",
    "V_pos_t = np.append(V_pos_t, 0)\n",
    "V_neg_t = V_neg / Z[:-1]\n",
    "V_neg_t = np.append(V_neg_t, 0)"
   ]
  },
  {
   "cell_type": "code",
   "execution_count": 18,
   "metadata": {},
   "outputs": [
    {
     "data": {
      "text/plain": [
       "23.36746305606918"
      ]
     },
     "execution_count": 18,
     "metadata": {},
     "output_type": "execute_result"
    }
   ],
   "source": [
    "## value of swap at time zero\n",
    "V_0 = V_pos_t[0] * notional\n",
    "V_0"
   ]
  },
  {
   "cell_type": "code",
   "execution_count": 19,
   "metadata": {},
   "outputs": [],
   "source": [
    "#value  # mu: real world measure. exposure\n",
    "discounted_pos_e = Z[1:] * pos_e\n",
    "discounted_neg_e = Z[1:] * neg_e\n",
    "#values discounted to today\n",
    "E_pos = np.cumsum(discounted_pos_e[::-1])[::-1]\n",
    "E_pos_month = E_pos.repeat(12)\n",
    "E_neg = np.cumsum(discounted_neg_e[::-1])[::-1]\n",
    "E_neg_month = E_neg.repeat(12)\n",
    "#value of swap at each point in time [V(0), V(1), ..., V(num_years-1)] by month\n",
    "E_pos_t = E_pos / Z[:-1]\n",
    "E_pos_t_month = E_pos_month / Z_month[:-1]\n",
    "E_pos_t_month = np.append(E_pos_t_month, 0)\n",
    "\n",
    "E_neg_t = E_neg / Z[:-1]\n",
    "E_neg_t_month = E_neg_month / Z_month[:-1]\n",
    "E_neg_t_month = np.append(E_neg_t_month, 0)"
   ]
  },
  {
   "cell_type": "code",
   "execution_count": 20,
   "metadata": {},
   "outputs": [
    {
     "data": {
      "text/plain": [
       "(2.70838150084662, 18.50462210707294, -13.087859105379698)"
      ]
     },
     "execution_count": 20,
     "metadata": {},
     "output_type": "execute_result"
    }
   ],
   "source": [
    "#EPE\n",
    "EPE = np.average(E_pos_t_month[1:]) * notional\n",
    "#ENE\n",
    "ENE = np.average(E_neg_t_month[1:]) * notional\n",
    "#EE\n",
    "EE = (np.sum(E_pos_t_month[1:]) + np.sum(E_neg_t_month[1:])) / (num_years * 12 *2) * notional\n",
    "\n",
    "EE,EPE,ENE"
   ]
  },
  {
   "cell_type": "code",
   "execution_count": 21,
   "metadata": {},
   "outputs": [
    {
     "data": {
      "text/plain": [
       "31.11410674987588"
      ]
     },
     "execution_count": 21,
     "metadata": {},
     "output_type": "execute_result"
    }
   ],
   "source": [
    "## potential future exposure with 95 percentile\n",
    "PFE = np.percentile(E_pos_t_month[1:], 95) * notional\n",
    "PFE"
   ]
  },
  {
   "cell_type": "code",
   "execution_count": 22,
   "metadata": {},
   "outputs": [],
   "source": [
    "#by month  #value   # r: risk neutral measure.  swap value, CVA, DVA\n",
    "discounted_pos_v = Z[1:] * pos_v\n",
    "discounted_neg_v = Z[1:] * neg_v\n",
    "#values discounted to today\n",
    "V_pos = np.cumsum(discounted_pos_v[::-1])[::-1]\n",
    "V_pos_month = V_pos.repeat(12)\n",
    "V_neg = np.cumsum(discounted_neg_v[::-1])[::-1]\n",
    "V_neg_month = V_neg.repeat(12)\n",
    "#value of swap at each point in time [V(0), V(1), ..., V(num_years-1)] by month\n",
    "V_pos_t = V_pos / Z[:-1]\n",
    "V_pos_t_month = V_pos_month / Z_month[:-1]\n",
    "V_pos_t_month = np.append(V_pos_t_month, 0)\n",
    "\n",
    "V_neg_t = V_neg / Z[:-1]\n",
    "V_neg_t_month = V_neg_month / Z_month[:-1]\n",
    "V_neg_t_month = np.append(V_neg_t_month, 0)"
   ]
  },
  {
   "cell_type": "code",
   "execution_count": 23,
   "metadata": {},
   "outputs": [
    {
     "data": {
      "text/plain": [
       "0.7680983836886364"
      ]
     },
     "execution_count": 23,
     "metadata": {},
     "output_type": "execute_result"
    }
   ],
   "source": [
    "#CVA\n",
    "CVA = np.sum((1 - recovery) * PD_month[:-1] * (1-np.exp(-q / 12)) * V_pos_t_month[1:] * Z_month[1:] * notional)\n",
    "CVA"
   ]
  },
  {
   "cell_type": "code",
   "execution_count": 24,
   "metadata": {},
   "outputs": [
    {
     "data": {
      "text/plain": [
       "-0.9058288376319021"
      ]
     },
     "execution_count": 24,
     "metadata": {},
     "output_type": "execute_result"
    }
   ],
   "source": [
    "#DVA\n",
    "DVA = np.sum((1 - recovery) * PD_month[:-1] * (1-np.exp(-q / 12)) * V_neg_t_month[1:] * Z_month[1:] * notional)\n",
    "DVA"
   ]
  },
  {
   "cell_type": "code",
   "execution_count": null,
   "metadata": {},
   "outputs": [],
   "source": []
  },
  {
   "cell_type": "code",
   "execution_count": null,
   "metadata": {},
   "outputs": [],
   "source": []
  }
 ],
 "metadata": {
  "kernelspec": {
   "display_name": "Python 3",
   "language": "python",
   "name": "python3"
  },
  "language_info": {
   "codemirror_mode": {
    "name": "ipython",
    "version": 3
   },
   "file_extension": ".py",
   "mimetype": "text/x-python",
   "name": "python",
   "nbconvert_exporter": "python",
   "pygments_lexer": "ipython3",
   "version": "3.7.4"
  }
 },
 "nbformat": 4,
 "nbformat_minor": 2
}
