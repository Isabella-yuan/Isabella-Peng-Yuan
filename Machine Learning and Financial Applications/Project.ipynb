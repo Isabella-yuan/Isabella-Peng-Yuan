{
 "cells": [
  {
   "cell_type": "code",
   "execution_count": 107,
   "metadata": {},
   "outputs": [],
   "source": [
    "import pandas as pd\n",
    "import numpy as np\n",
    "import matplotlib.pyplot as plt\n",
    "from sklearn.model_selection import train_test_split\n",
    "from sklearn.metrics import roc_curve\n",
    "from sklearn.metrics import accuracy_score, recall_score, precision_score\n",
    "from sklearn.metrics import classification_report\n",
    "from sklearn.metrics import confusion_matrix\n",
    "from sklearn.metrics import auc,roc_auc_score\n",
    "from sklearn.preprocessing import MaxAbsScaler\n",
    "from sklearn.tree import DecisionTreeClassifier\n",
    "from sklearn.preprocessing import OneHotEncoder\n",
    "from sklearn.ensemble import AdaBoostClassifier, GradientBoostingClassifier,StackingClassifier,RandomForestClassifier\n",
    "from sklearn.ensemble import VotingClassifier,BaggingClassifier\n",
    "from catboost import CatBoostClassifier\n",
    "from sklearn.model_selection import cross_val_score\n",
    "from sklearn.linear_model import LogisticRegression\n",
    "from sklearn import model_selection \n",
    "from sklearn import ensemble\n",
    "from sklearn import naive_bayes\n",
    "from time import time\n",
    "from sklearn import linear_model, tree, model_selection\n",
    "\n",
    "data = pd.read_csv('train_20D8GL3.csv')             "
   ]
  },
  {
   "cell_type": "code",
   "execution_count": 108,
   "metadata": {},
   "outputs": [],
   "source": [
    "index_valid=[i for i in range(0,len(data.index)) if 0<data.EDUCATION[i]<5]"
   ]
  },
  {
   "cell_type": "code",
   "execution_count": 109,
   "metadata": {},
   "outputs": [],
   "source": [
    "validata=data.iloc[index_valid[:],1:] #excluding invalid rows and useless attribute (ID)"
   ]
  },
  {
   "cell_type": "code",
   "execution_count": 110,
   "metadata": {},
   "outputs": [],
   "source": [
    "validata=validata.reset_index(drop=True)"
   ]
  },
  {
   "cell_type": "code",
   "execution_count": 111,
   "metadata": {},
   "outputs": [],
   "source": [
    "def optimal_binning_boundary(x: pd.Series, y: pd.Series) -> list:\n",
    "    '''\n",
    "        compute boundary of bins using results given by decision trees\n",
    "    '''\n",
    "    boundary = []  #boundary of bins to be returned\n",
    "    \n",
    "    x = x.values\n",
    "    y = y.values\n",
    "    \n",
    "    clf = DecisionTreeClassifier(criterion='entropy', max_leaf_nodes=6, min_samples_leaf=0.05)\n",
    "\n",
    "    clf.fit(x.reshape(-1, 1), y)  #train the decision trees\n",
    "    \n",
    "    n_nodes = clf.tree_.node_count\n",
    "    children_left = clf.tree_.children_left\n",
    "    children_right = clf.tree_.children_right\n",
    "    threshold = clf.tree_.threshold\n",
    "    \n",
    "    for i in range(n_nodes):\n",
    "        if children_left[i] != children_right[i]:  #compute the boundary values at the nodes of decision trees\n",
    "            boundary.append(threshold[i])\n",
    "\n",
    "    boundary.sort()\n",
    "\n",
    "    min_x = x.min()\n",
    "    max_x = x.max() + 0.1  #to include the maximum sample of the attribute for the groupby method\n",
    "    boundary = [min_x] + boundary + [max_x]\n",
    "\n",
    "    return boundary"
   ]
  },
  {
   "cell_type": "code",
   "execution_count": 112,
   "metadata": {},
   "outputs": [],
   "source": [
    "def attribute_woe_iv(x: pd.Series, y: pd.Series) -> pd.DataFrame:\n",
    "    '''\n",
    "        return a DataFrame showing the WOE and IV values of an attribute     #Weight of Evidence(WOE) & Information Value(IV)\n",
    "    '''\n",
    "    boundary = optimal_binning_boundary(x, y)        #boundaries as an internal input\n",
    "    df = pd.concat([x, y], axis=1)                        \n",
    "    df.columns = ['x', 'y']                               \n",
    "    df['bins'] = pd.cut(x=x, bins=boundary, right=False)  #get the sub-interval where x locates\n",
    "    \n",
    "    grouped = df.groupby('bins')['y']                     #count the number of default/survival and their totals of each bin\n",
    "    result_df = grouped.agg([('good',  lambda y: (y == 0).sum()), \n",
    "                             ('bad',   lambda y: (y == 1).sum()),\n",
    "                             ('total', 'count')])\n",
    "\n",
    "    result_df['good_pct'] = result_df['good'] / result_df['good'].sum()       #default ratio\n",
    "    result_df['bad_pct'] = result_df['bad'] / result_df['bad'].sum()          #survival ratio\n",
    "    result_df['total_pct'] = result_df['total'] / result_df['total'].sum()    #total ratio\n",
    "\n",
    "    result_df['bad_rate'] = result_df['bad'] / result_df['total']             #bad rate\n",
    "    \n",
    "    result_df['woe'] = np.log(result_df['good_pct'] / result_df['bad_pct'])              # WOE\n",
    "    result_df['iv'] = (result_df['good_pct'] - result_df['bad_pct']) * result_df['woe']  # IV\n",
    "    \n",
    "    return result_df"
   ]
  },
  {
   "cell_type": "code",
   "execution_count": 113,
   "metadata": {},
   "outputs": [],
   "source": [
    "attributes_discretized=validata.iloc[:,[0]+list(range(11,23))]"
   ]
  },
  {
   "cell_type": "code",
   "execution_count": 114,
   "metadata": {},
   "outputs": [
    {
     "name": "stdout",
     "output_type": "stream",
     "text": [
      "LIMIT_BAL 0.19582867876291427\n",
      "PAY_AMT3 0.1417805874922513\n",
      "PAY_AMT4 0.11842355786796864\n",
      "PAY_AMT5 0.10893921018538047\n"
     ]
    }
   ],
   "source": [
    "for i in attributes_discretized.columns:\n",
    "    result_df=attribute_woe_iv(x=attributes_discretized[i],y=validata.default_payment_next_month)\n",
    "    if (result_df.woe.is_monotonic and result_df.woe.is_unique)==True: #WOE must be monotonically related to the variate\n",
    "        print(i,sum(result_df.iv))"
   ]
  },
  {
   "cell_type": "code",
   "execution_count": 115,
   "metadata": {},
   "outputs": [],
   "source": [
    "def discretizer(a, b):\n",
    "        for i in range(0,len(b)):\n",
    "            if b[i]<=a<b[i+1]:\n",
    "                return i\n",
    "            else:\n",
    "                pass"
   ]
  },
  {
   "cell_type": "code",
   "execution_count": 116,
   "metadata": {},
   "outputs": [
    {
     "data": {
      "text/html": [
       "<div>\n",
       "<style scoped>\n",
       "    .dataframe tbody tr th:only-of-type {\n",
       "        vertical-align: middle;\n",
       "    }\n",
       "\n",
       "    .dataframe tbody tr th {\n",
       "        vertical-align: top;\n",
       "    }\n",
       "\n",
       "    .dataframe thead th {\n",
       "        text-align: right;\n",
       "    }\n",
       "</style>\n",
       "<table border=\"1\" class=\"dataframe\">\n",
       "  <thead>\n",
       "    <tr style=\"text-align: right;\">\n",
       "      <th></th>\n",
       "      <th>LIMIT_BAL</th>\n",
       "      <th>PAY_AMT3</th>\n",
       "      <th>PAY_AMT4</th>\n",
       "      <th>PAY_AMT5</th>\n",
       "    </tr>\n",
       "  </thead>\n",
       "  <tbody>\n",
       "    <tr>\n",
       "      <td>0</td>\n",
       "      <td>360000</td>\n",
       "      <td>3446</td>\n",
       "      <td>8870</td>\n",
       "      <td>2020</td>\n",
       "    </tr>\n",
       "    <tr>\n",
       "      <td>1</td>\n",
       "      <td>240000</td>\n",
       "      <td>2240</td>\n",
       "      <td>0</td>\n",
       "      <td>2267</td>\n",
       "    </tr>\n",
       "    <tr>\n",
       "      <td>2</td>\n",
       "      <td>320000</td>\n",
       "      <td>2000</td>\n",
       "      <td>3000</td>\n",
       "      <td>3000</td>\n",
       "    </tr>\n",
       "  </tbody>\n",
       "</table>\n",
       "</div>"
      ],
      "text/plain": [
       "   LIMIT_BAL  PAY_AMT3  PAY_AMT4  PAY_AMT5\n",
       "0     360000      3446      8870      2020\n",
       "1     240000      2240         0      2267\n",
       "2     320000      2000      3000      3000"
      ]
     },
     "execution_count": 116,
     "metadata": {},
     "output_type": "execute_result"
    }
   ],
   "source": [
    "df_X=pd.concat([validata.LIMIT_BAL, validata.PAY_AMT3, validata.PAY_AMT4, validata.PAY_AMT5], axis=1)\n",
    "df_X.head(3)"
   ]
  },
  {
   "cell_type": "code",
   "execution_count": 117,
   "metadata": {},
   "outputs": [],
   "source": [
    "for i in range(0,len(df_X.columns)):\n",
    "    b=optimal_binning_boundary(x=df_X.iloc[:,i], y=validata.default_payment_next_month)\n",
    "    df_X.iloc[:,i]=pd.DataFrame([discretizer(df_X.iloc[:,i][j],b) for j in range(0,len(validata.default_payment_next_month))])"
   ]
  },
  {
   "cell_type": "code",
   "execution_count": 118,
   "metadata": {},
   "outputs": [],
   "source": [
    "df_X=pd.concat([df_X, validata.iloc[:,1:5], validata.iloc[:,5:11]], axis=1)"
   ]
  },
  {
   "cell_type": "code",
   "execution_count": 119,
   "metadata": {},
   "outputs": [],
   "source": [
    "df_X.SEX=df_X.SEX-1\n",
    "#df_X"
   ]
  },
  {
   "cell_type": "code",
   "execution_count": 120,
   "metadata": {},
   "outputs": [],
   "source": [
    "onehotencoder = OneHotEncoder()  "
   ]
  },
  {
   "cell_type": "code",
   "execution_count": 121,
   "metadata": {},
   "outputs": [],
   "source": [
    "marriage=onehotencoder.fit_transform(df_X.MARRIAGE.values.reshape(-1,1)).toarray()  #1 row\n",
    "#marriage"
   ]
  },
  {
   "cell_type": "code",
   "execution_count": 122,
   "metadata": {},
   "outputs": [],
   "source": [
    "dfOneHot=pd.DataFrame(marriage, columns = ['WIDOWED','MARRIED','SINGLE','DIVORCED']) \n",
    "#dfOneHot"
   ]
  },
  {
   "cell_type": "code",
   "execution_count": 123,
   "metadata": {},
   "outputs": [],
   "source": [
    "df_X=df_X.drop(['MARRIAGE'], axis=1)"
   ]
  },
  {
   "cell_type": "code",
   "execution_count": 124,
   "metadata": {},
   "outputs": [],
   "source": [
    "df_X=pd.concat([df_X, dfOneHot], axis=1)"
   ]
  },
  {
   "cell_type": "code",
   "execution_count": 125,
   "metadata": {},
   "outputs": [],
   "source": [
    "df_X=df_X.drop(['WIDOWED'], axis=1) #avoid perfect multicollinearity\n",
    "#df_X"
   ]
  },
  {
   "cell_type": "code",
   "execution_count": 126,
   "metadata": {},
   "outputs": [],
   "source": [
    "max_abs_scaler=MaxAbsScaler()"
   ]
  },
  {
   "cell_type": "code",
   "execution_count": 128,
   "metadata": {},
   "outputs": [],
   "source": [
    "df_X_maxabs= max_abs_scaler.fit_transform(df_X) #normalisation"
   ]
  },
  {
   "cell_type": "code",
   "execution_count": 129,
   "metadata": {},
   "outputs": [],
   "source": [
    "df_X_maxabs=pd.DataFrame(df_X_maxabs,columns = df_X.columns)"
   ]
  },
  {
   "cell_type": "code",
   "execution_count": 130,
   "metadata": {},
   "outputs": [
    {
     "data": {
      "text/plain": [
       "(20756, 16)"
      ]
     },
     "execution_count": 130,
     "metadata": {},
     "output_type": "execute_result"
    }
   ],
   "source": [
    "df_X=df_X_maxabs\n",
    "df_X.columns\n",
    "df_X.shape"
   ]
  },
  {
   "cell_type": "code",
   "execution_count": 131,
   "metadata": {},
   "outputs": [],
   "source": [
    "df_Y=validata.default_payment_next_month"
   ]
  },
  {
   "cell_type": "code",
   "execution_count": 132,
   "metadata": {},
   "outputs": [
    {
     "name": "stdout",
     "output_type": "stream",
     "text": [
      "[0.09189265 0.06249188 0.06269137 0.07527733 0.03325801 0.05696399\n",
      " 0.24325345 0.17901101 0.0359615  0.03808784 0.03263604 0.03307632\n",
      " 0.02812408 0.01194024 0.01243873 0.00289554]\n"
     ]
    },
    {
     "data": {
      "image/png": "[encoded data removed]",
      "text/plain": [
       "<Figure size 432x288 with 1 Axes>"
      ]
     },
     "metadata": {
      "needs_background": "light"
     },
     "output_type": "display_data"
    }
   ],
   "source": [
    "#feature selection: method 1 - Feature Importance\n",
    "from sklearn.ensemble import ExtraTreesClassifier\n",
    "import matplotlib.pyplot as plt\n",
    "model = tree.ExtraTreeClassifier()\n",
    "model.fit(df_X,df_Y)\n",
    "print(model.feature_importances_) #use inbuilt class feature_importances of tree based classifiers\n",
    "#plot graph of feature importances for better visualization\n",
    "feat_importances = pd.Series(model.feature_importances_, index=df_X.columns)\n",
    "feat_importances.nlargest(16).plot(kind='barh')\n",
    "plt.show()"
   ]
  },
  {
   "cell_type": "code",
   "execution_count": 155,
   "metadata": {},
   "outputs": [],
   "source": [
    "df_X_select3 = df_X[['AGE','PAY_0','LIMIT_BAL']]\n",
    "df_X_select5 = df_X[['AGE','PAY_0','LIMIT_BAL','PAY_AMT5','PAY_AMT4']]"
   ]
  },
  {
   "cell_type": "code",
   "execution_count": 134,
   "metadata": {},
   "outputs": [],
   "source": [
    "X_train, X_test, y_train, y_test = train_test_split(df_X_select5, df_Y, test_size=0.3, random_state=0)"
   ]
  },
  {
   "cell_type": "code",
   "execution_count": 135,
   "metadata": {},
   "outputs": [],
   "source": [
    "from sklearn.metrics import f1_score, accuracy_score\n",
    "from sklearn import metrics\n",
    "\n",
    "def train_predict(learner,X_train, y_train, X_test, y_test): \n",
    "\n",
    "    results = {}\n",
    "    results[\"1_model\"] = learner.__class__.__name__\n",
    "    \n",
    "    # training\n",
    "    start = time() \n",
    "    learner = learner.fit(X_train,y_train)\n",
    "    end = time() \n",
    "    # training time\n",
    "    results['2_train_time'] = end-start\n",
    "    \n",
    "    # predict\n",
    "    start = time() \n",
    "    predictions_test = learner.predict(X_test)\n",
    "    end = time() \n",
    "    # predicting time\n",
    "    results['3_pred_time'] = end-start\n",
    "            \n",
    "      \n",
    "    # accuracy on test set\n",
    "    results['4_acc_test'] = accuracy_score(y_test,predictions_test)\n",
    "    # F score on test set\n",
    "    results['5_f_test'] = f1_score(y_test,predictions_test)\n",
    "    results['6_f2_test'] = metrics.fbeta_score(y_test, predictions_test, beta = 2)\n",
    "    results['7_recall'] = metrics.recall_score(y_test, predictions_test)\n",
    "    \n",
    "    return results"
   ]
  },
  {
   "cell_type": "code",
   "execution_count": 156,
   "metadata": {},
   "outputs": [],
   "source": [
    "clfs = {}\n",
    "\n",
    "# GaussianNB\n",
    "from sklearn.naive_bayes import GaussianNB\n",
    "clfs[\"nb\"] = GaussianNB()\n",
    "\n",
    "# random forest\n",
    "from sklearn.tree import DecisionTreeClassifier\n",
    "clfs[\"dtc\"] = DecisionTreeClassifier()\n",
    "\n",
    "# KNeighbors\n",
    "from sklearn.neighbors import KNeighborsClassifier\n",
    "clfs[\"knc\"] = KNeighborsClassifier()\n",
    "\n",
    "# SVC\n",
    "from sklearn.svm import SVC\n",
    "clfs[\"svc\"] = SVC()\n",
    "\n",
    "# Logistic regression\n",
    "from sklearn.linear_model import LogisticRegression\n",
    "clfs['lr'] = LogisticRegression()\n",
    "\n",
    "# random forest\n",
    "from sklearn.ensemble import RandomForestClassifier\n",
    "clfs[\"rfc\"] = RandomForestClassifier()\n",
    "\n",
    "# AdaBoosting\n",
    "from sklearn.ensemble import AdaBoostClassifier\n",
    "clfs[\"adc\"] = AdaBoostClassifier()\n",
    "\n",
    "# gbdt\n",
    "from sklearn.ensemble import GradientBoostingClassifier\n",
    "clfs[\"gbdt\"] = GradientBoostingClassifier()"
   ]
  },
  {
   "cell_type": "code",
   "execution_count": 137,
   "metadata": {},
   "outputs": [
    {
     "name": "stdout",
     "output_type": "stream",
     "text": [
      "nb\n",
      "dtc\n",
      "knc\n",
      "svc\n",
      "lr\n",
      "rfc\n",
      "adc\n",
      "gbdt\n"
     ]
    }
   ],
   "source": [
    "totaldata = pd.DataFrame(columns=['1_model', \n",
    "                                  '2_train_time', \n",
    "                                  '3_pred_time', \n",
    "                                  '4_acc_test', \n",
    "                                  '5_f_test',\n",
    "                                  '6_f2_test',\n",
    "                                  '7_recall'])\n",
    "\n",
    "for clf in clfs:\n",
    "    print(clf)\n",
    "    # print(clfs[clf])\n",
    "    temp = train_predict(clfs[clf],X_train, y_train, X_test, y_test)\n",
    "    rdata = pd.DataFrame(pd.Series(temp)).T\n",
    "    totaldata=pd.concat([totaldata,rdata])"
   ]
  },
  {
   "cell_type": "code",
   "execution_count": 138,
   "metadata": {},
   "outputs": [
    {
     "data": {
      "text/html": [
       "<div>\n",
       "<style scoped>\n",
       "    .dataframe tbody tr th:only-of-type {\n",
       "        vertical-align: middle;\n",
       "    }\n",
       "\n",
       "    .dataframe tbody tr th {\n",
       "        vertical-align: top;\n",
       "    }\n",
       "\n",
       "    .dataframe thead th {\n",
       "        text-align: right;\n",
       "    }\n",
       "</style>\n",
       "<table border=\"1\" class=\"dataframe\">\n",
       "  <thead>\n",
       "    <tr style=\"text-align: right;\">\n",
       "      <th></th>\n",
       "      <th>1_model</th>\n",
       "      <th>2_train_time</th>\n",
       "      <th>3_pred_time</th>\n",
       "      <th>4_acc_test</th>\n",
       "      <th>5_f_test</th>\n",
       "      <th>6_f2_test</th>\n",
       "      <th>7_recall</th>\n",
       "    </tr>\n",
       "  </thead>\n",
       "  <tbody>\n",
       "    <tr>\n",
       "      <td>0</td>\n",
       "      <td>GaussianNB</td>\n",
       "      <td>0.00498414</td>\n",
       "      <td>0.00503182</td>\n",
       "      <td>0.814678</td>\n",
       "      <td>0.439806</td>\n",
       "      <td>0.360784</td>\n",
       "      <td>0.322191</td>\n",
       "    </tr>\n",
       "    <tr>\n",
       "      <td>1</td>\n",
       "      <td>DecisionTreeClassifier</td>\n",
       "      <td>0.0119593</td>\n",
       "      <td>0.0029881</td>\n",
       "      <td>0.799101</td>\n",
       "      <td>0.382832</td>\n",
       "      <td>0.310649</td>\n",
       "      <td>0.27596</td>\n",
       "    </tr>\n",
       "    <tr>\n",
       "      <td>2</td>\n",
       "      <td>KNeighborsClassifier</td>\n",
       "      <td>0.0498357</td>\n",
       "      <td>0.181396</td>\n",
       "      <td>0.780633</td>\n",
       "      <td>0.408146</td>\n",
       "      <td>0.360864</td>\n",
       "      <td>0.334993</td>\n",
       "    </tr>\n",
       "    <tr>\n",
       "      <td>3</td>\n",
       "      <td>SVC</td>\n",
       "      <td>3.74748</td>\n",
       "      <td>0.516276</td>\n",
       "      <td>0.813393</td>\n",
       "      <td>0.432063</td>\n",
       "      <td>0.35281</td>\n",
       "      <td>0.314367</td>\n",
       "    </tr>\n",
       "    <tr>\n",
       "      <td>4</td>\n",
       "      <td>LogisticRegression</td>\n",
       "      <td>0.0667734</td>\n",
       "      <td>0.00199676</td>\n",
       "      <td>0.807451</td>\n",
       "      <td>0.370604</td>\n",
       "      <td>0.288257</td>\n",
       "      <td>0.251067</td>\n",
       "    </tr>\n",
       "    <tr>\n",
       "      <td>5</td>\n",
       "      <td>RandomForestClassifier</td>\n",
       "      <td>0.540199</td>\n",
       "      <td>0.101669</td>\n",
       "      <td>0.801028</td>\n",
       "      <td>0.422916</td>\n",
       "      <td>0.356638</td>\n",
       "      <td>0.322902</td>\n",
       "    </tr>\n",
       "    <tr>\n",
       "      <td>6</td>\n",
       "      <td>AdaBoostClassifier</td>\n",
       "      <td>0.235213</td>\n",
       "      <td>0.0328865</td>\n",
       "      <td>0.814678</td>\n",
       "      <td>0.445725</td>\n",
       "      <td>0.368254</td>\n",
       "      <td>0.330014</td>\n",
       "    </tr>\n",
       "    <tr>\n",
       "      <td>7</td>\n",
       "      <td>GradientBoostingClassifier</td>\n",
       "      <td>0.503837</td>\n",
       "      <td>0.0174811</td>\n",
       "      <td>0.813875</td>\n",
       "      <td>0.446778</td>\n",
       "      <td>0.370664</td>\n",
       "      <td>0.332859</td>\n",
       "    </tr>\n",
       "  </tbody>\n",
       "</table>\n",
       "</div>"
      ],
      "text/plain": [
       "                      1_model 2_train_time 3_pred_time 4_acc_test  5_f_test  \\\n",
       "0                  GaussianNB   0.00498414  0.00503182   0.814678  0.439806   \n",
       "1      DecisionTreeClassifier    0.0119593   0.0029881   0.799101  0.382832   \n",
       "2        KNeighborsClassifier    0.0498357    0.181396   0.780633  0.408146   \n",
       "3                         SVC      3.74748    0.516276   0.813393  0.432063   \n",
       "4          LogisticRegression    0.0667734  0.00199676   0.807451  0.370604   \n",
       "5      RandomForestClassifier     0.540199    0.101669   0.801028  0.422916   \n",
       "6          AdaBoostClassifier     0.235213   0.0328865   0.814678  0.445725   \n",
       "7  GradientBoostingClassifier     0.503837   0.0174811   0.813875  0.446778   \n",
       "\n",
       "  6_f2_test  7_recall  \n",
       "0  0.360784  0.322191  \n",
       "1  0.310649   0.27596  \n",
       "2  0.360864  0.334993  \n",
       "3   0.35281  0.314367  \n",
       "4  0.288257  0.251067  \n",
       "5  0.356638  0.322902  \n",
       "6  0.368254  0.330014  \n",
       "7  0.370664  0.332859  "
      ]
     },
     "execution_count": 138,
     "metadata": {},
     "output_type": "execute_result"
    }
   ],
   "source": [
    "totaldata.reset_index(drop = True)"
   ]
  },
  {
   "cell_type": "code",
   "execution_count": 139,
   "metadata": {},
   "outputs": [
    {
     "data": {
      "text/html": [
       "<div>\n",
       "<style scoped>\n",
       "    .dataframe tbody tr th:only-of-type {\n",
       "        vertical-align: middle;\n",
       "    }\n",
       "\n",
       "    .dataframe tbody tr th {\n",
       "        vertical-align: top;\n",
       "    }\n",
       "\n",
       "    .dataframe thead th {\n",
       "        text-align: right;\n",
       "    }\n",
       "</style>\n",
       "<table border=\"1\" class=\"dataframe\">\n",
       "  <thead>\n",
       "    <tr style=\"text-align: right;\">\n",
       "      <th></th>\n",
       "      <th>1_model</th>\n",
       "      <th>2_train_time</th>\n",
       "      <th>3_pred_time</th>\n",
       "      <th>4_acc_test</th>\n",
       "      <th>5_f_test</th>\n",
       "      <th>6_f2_test</th>\n",
       "      <th>7_recall</th>\n",
       "    </tr>\n",
       "  </thead>\n",
       "  <tbody>\n",
       "    <tr>\n",
       "      <td>0</td>\n",
       "      <td>KNeighborsClassifier</td>\n",
       "      <td>0.0498357</td>\n",
       "      <td>0.181396</td>\n",
       "      <td>0.780633</td>\n",
       "      <td>0.408146</td>\n",
       "      <td>0.360864</td>\n",
       "      <td>0.334993</td>\n",
       "    </tr>\n",
       "    <tr>\n",
       "      <td>1</td>\n",
       "      <td>GradientBoostingClassifier</td>\n",
       "      <td>0.503837</td>\n",
       "      <td>0.0174811</td>\n",
       "      <td>0.813875</td>\n",
       "      <td>0.446778</td>\n",
       "      <td>0.370664</td>\n",
       "      <td>0.332859</td>\n",
       "    </tr>\n",
       "    <tr>\n",
       "      <td>2</td>\n",
       "      <td>AdaBoostClassifier</td>\n",
       "      <td>0.235213</td>\n",
       "      <td>0.0328865</td>\n",
       "      <td>0.814678</td>\n",
       "      <td>0.445725</td>\n",
       "      <td>0.368254</td>\n",
       "      <td>0.330014</td>\n",
       "    </tr>\n",
       "    <tr>\n",
       "      <td>3</td>\n",
       "      <td>RandomForestClassifier</td>\n",
       "      <td>0.540199</td>\n",
       "      <td>0.101669</td>\n",
       "      <td>0.801028</td>\n",
       "      <td>0.422916</td>\n",
       "      <td>0.356638</td>\n",
       "      <td>0.322902</td>\n",
       "    </tr>\n",
       "    <tr>\n",
       "      <td>4</td>\n",
       "      <td>GaussianNB</td>\n",
       "      <td>0.00498414</td>\n",
       "      <td>0.00503182</td>\n",
       "      <td>0.814678</td>\n",
       "      <td>0.439806</td>\n",
       "      <td>0.360784</td>\n",
       "      <td>0.322191</td>\n",
       "    </tr>\n",
       "    <tr>\n",
       "      <td>5</td>\n",
       "      <td>SVC</td>\n",
       "      <td>3.74748</td>\n",
       "      <td>0.516276</td>\n",
       "      <td>0.813393</td>\n",
       "      <td>0.432063</td>\n",
       "      <td>0.35281</td>\n",
       "      <td>0.314367</td>\n",
       "    </tr>\n",
       "    <tr>\n",
       "      <td>6</td>\n",
       "      <td>DecisionTreeClassifier</td>\n",
       "      <td>0.0119593</td>\n",
       "      <td>0.0029881</td>\n",
       "      <td>0.799101</td>\n",
       "      <td>0.382832</td>\n",
       "      <td>0.310649</td>\n",
       "      <td>0.27596</td>\n",
       "    </tr>\n",
       "    <tr>\n",
       "      <td>7</td>\n",
       "      <td>LogisticRegression</td>\n",
       "      <td>0.0667734</td>\n",
       "      <td>0.00199676</td>\n",
       "      <td>0.807451</td>\n",
       "      <td>0.370604</td>\n",
       "      <td>0.288257</td>\n",
       "      <td>0.251067</td>\n",
       "    </tr>\n",
       "  </tbody>\n",
       "</table>\n",
       "</div>"
      ],
      "text/plain": [
       "                      1_model 2_train_time 3_pred_time 4_acc_test  5_f_test  \\\n",
       "0        KNeighborsClassifier    0.0498357    0.181396   0.780633  0.408146   \n",
       "1  GradientBoostingClassifier     0.503837   0.0174811   0.813875  0.446778   \n",
       "2          AdaBoostClassifier     0.235213   0.0328865   0.814678  0.445725   \n",
       "3      RandomForestClassifier     0.540199    0.101669   0.801028  0.422916   \n",
       "4                  GaussianNB   0.00498414  0.00503182   0.814678  0.439806   \n",
       "5                         SVC      3.74748    0.516276   0.813393  0.432063   \n",
       "6      DecisionTreeClassifier    0.0119593   0.0029881   0.799101  0.382832   \n",
       "7          LogisticRegression    0.0667734  0.00199676   0.807451  0.370604   \n",
       "\n",
       "  6_f2_test  7_recall  \n",
       "0  0.360864  0.334993  \n",
       "1  0.370664  0.332859  \n",
       "2  0.368254  0.330014  \n",
       "3  0.356638  0.322902  \n",
       "4  0.360784  0.322191  \n",
       "5   0.35281  0.314367  \n",
       "6  0.310649   0.27596  \n",
       "7  0.288257  0.251067  "
      ]
     },
     "execution_count": 139,
     "metadata": {},
     "output_type": "execute_result"
    }
   ],
   "source": [
    "totaldata.sort_values(by=\"7_recall\",ascending=False).reset_index(drop = True)"
   ]
  },
  {
   "cell_type": "code",
   "execution_count": 36,
   "metadata": {},
   "outputs": [
    {
     "data": {
      "text/plain": [
       "({'n_neighbors': 1, 'p': 2, 'weights': 'uniform'}, 0.38948233755744865)"
      ]
     },
     "execution_count": 36,
     "metadata": {},
     "output_type": "execute_result"
    }
   ],
   "source": [
    "#KNN\n",
    "recall_scorer = metrics.make_scorer(metrics.recall_score) #objective function   \n",
    "knn = KNeighborsClassifier()    \n",
    "param_test = {'n_neighbors': range(1,15), 'weights':['uniform','distance'], 'p': range(1,10)}\n",
    "knn_grid = model_selection.GridSearchCV(knn, param_test,scoring=recall_scorer, cv = model_selection.StratifiedKFold(n_splits = 10, shuffle = True, random_state = 2020), n_jobs=-1)\n",
    "knn_grid.fit(X_train,y_train)\n",
    "knn_grid.best_params_, knn_grid.best_score_  "
   ]
  },
  {
   "cell_type": "code",
   "execution_count": 37,
   "metadata": {},
   "outputs": [
    {
     "data": {
      "text/plain": [
       "({'max_depth': 11, 'min_samples_split': 50, 'n_estimators': 500},\n",
       " 0.3541055323731323)"
      ]
     },
     "execution_count": 37,
     "metadata": {},
     "output_type": "execute_result"
    }
   ],
   "source": [
    "#Random Forest  \n",
    "rf = ensemble.RandomForestClassifier()  \n",
    "param_test = { 'n_estimators':[50,100,200,500],'max_depth':range(3,14,4), 'min_samples_split':range(50,201,50)}\n",
    "rf_grid = model_selection.GridSearchCV(rf, param_test,scoring=recall_scorer, cv = model_selection.StratifiedKFold(n_splits = 10, shuffle = True, random_state = 2020), n_jobs=-1)\n",
    "rf_grid.fit(X_train,y_train)\n",
    "rf_grid.best_params_,rf_grid.best_score_ "
   ]
  },
  {
   "cell_type": "code",
   "execution_count": 38,
   "metadata": {},
   "outputs": [
    {
     "data": {
      "text/plain": [
       "({'max_features': 3, 'min_samples_leaf': 10, 'min_samples_split': 30},\n",
       " 0.3541055323731323)"
      ]
     },
     "execution_count": 38,
     "metadata": {},
     "output_type": "execute_result"
    }
   ],
   "source": [
    "param_test = {'min_samples_split':[30,50,80], 'min_samples_leaf':[2,5,7,10], 'max_features':[1,2,3]}\n",
    "rf_grid2 = model_selection.GridSearchCV(ensemble.RandomForestClassifier(n_estimators = 500,max_depth = 11, min_samples_split = 50), param_test,scoring=recall_scorer, cv = model_selection.StratifiedKFold(n_splits = 10, shuffle = True, random_state = 2020), n_jobs=-1)\n",
    "rf_grid2.fit(X_train,y_train)\n",
    "rf_grid2.best_params_,rf_grid.best_score_ "
   ]
  },
  {
   "cell_type": "code",
   "execution_count": 59,
   "metadata": {},
   "outputs": [
    {
     "data": {
      "text/plain": [
       "({'class_weight': {0: 1, 1: 15}}, 0.3541055323731323)"
      ]
     },
     "execution_count": 59,
     "metadata": {},
     "output_type": "execute_result"
    }
   ],
   "source": [
    "param_test = {'class_weight': [{0:1,1:10},{0:1,1:15}]}\n",
    "rf_grid2 = model_selection.GridSearchCV(RandomForestClassifier(n_estimators = 500,max_depth = 11, max_features = 3, min_samples_leaf = 10, min_samples_split = 30), param_test,scoring=recall_scorer, cv = model_selection.StratifiedKFold(n_splits = 10, shuffle = True, random_state = 2020), n_jobs=-1)\n",
    "rf_grid2.fit(X_train,y_train)\n",
    "rf_grid2.best_params_,rf_grid.best_score_ "
   ]
  },
  {
   "cell_type": "code",
   "execution_count": 40,
   "metadata": {},
   "outputs": [
    {
     "data": {
      "text/plain": [
       "({'n_estimators': 100}, 0.36465107782243333)"
      ]
     },
     "execution_count": 40,
     "metadata": {},
     "output_type": "execute_result"
    }
   ],
   "source": [
    "#gradient boosting hyperparameter tuning\n",
    "param_test1 = {'n_estimators':[50,100,200,500,100]}\n",
    "gb_gsearch1 =  model_selection.GridSearchCV(estimator = GradientBoostingClassifier(learning_rate=0.1, max_features='sqrt', subsample=0.8, random_state=10), \n",
    "param_grid = param_test1, scoring=recall_scorer, cv = model_selection.StratifiedKFold(n_splits = 10, shuffle = True, random_state = 2020), n_jobs=-1)\n",
    "gb_gsearch1.fit(X_train,y_train)\n",
    "gb_gsearch1.best_params_, gb_gsearch1.best_score_"
   ]
  },
  {
   "cell_type": "code",
   "execution_count": 41,
   "metadata": {},
   "outputs": [
    {
     "data": {
      "text/plain": [
       "({'max_depth': 13, 'min_samples_split': 200}, 0.363097321308386)"
      ]
     },
     "execution_count": 41,
     "metadata": {},
     "output_type": "execute_result"
    }
   ],
   "source": [
    "param_test2 = {'max_depth':range(5,16,2), 'min_samples_split':range(200,1001,200)}\n",
    "gb_gsearch2 =  model_selection.GridSearchCV(estimator = GradientBoostingClassifier(learning_rate=0.1, n_estimators=100, max_features='sqrt', subsample=0.8, random_state=10), \n",
    "param_grid = param_test2, scoring=recall_scorer, cv = model_selection.StratifiedKFold(n_splits = 10, shuffle = True, random_state = 2020), n_jobs=-1)\n",
    "gb_gsearch2.fit(X_train,y_train)\n",
    "gb_gsearch2.best_params_, gb_gsearch2.best_score_"
   ]
  },
  {
   "cell_type": "code",
   "execution_count": 42,
   "metadata": {},
   "outputs": [
    {
     "data": {
      "text/plain": [
       "({'min_samples_leaf': 120, 'subsample': 0.9}, 0.3643414802992135)"
      ]
     },
     "execution_count": 42,
     "metadata": {},
     "output_type": "execute_result"
    }
   ],
   "source": [
    "param_test3 = {'min_samples_leaf':[30,60,90,120,160,260], 'subsample':[0.9, 5, 8, 20]}\n",
    "gb_gsearch3 = model_selection.GridSearchCV(estimator = GradientBoostingClassifier(learning_rate=0.1, n_estimators=100,max_depth=13,min_samples_split = 200, max_features='sqrt', random_state=10), \n",
    "param_grid = param_test3, scoring=recall_scorer, cv = model_selection.StratifiedKFold(n_splits = 10, shuffle = True, random_state = 2020), n_jobs=-1)\n",
    "gb_gsearch3.fit(X_train,y_train)\n",
    "gb_gsearch3.best_params_, gb_gsearch3.best_score_"
   ]
  },
  {
   "cell_type": "code",
   "execution_count": 140,
   "metadata": {},
   "outputs": [],
   "source": [
    "rf_tune = RandomForestClassifier(n_estimators = 500,max_depth = 11, max_features = 3, min_samples_leaf = 10, min_samples_split = 30, class_weight = {0:1,1:15})\n",
    "knn_tune = KNeighborsClassifier(n_neighbors = 1, p = 2, weights = 'uniform')\n",
    "gb_tune = GradientBoostingClassifier(learning_rate=0.1, n_estimators=100,max_depth=13,min_samples_split = 200,min_samples_leaf =120,  max_features='sqrt', subsample=0.9, random_state=10)\n",
    "gnb = naive_bayes.GaussianNB()"
   ]
  },
  {
   "cell_type": "code",
   "execution_count": 148,
   "metadata": {},
   "outputs": [
    {
     "name": "stdout",
     "output_type": "stream",
     "text": [
      "Random Forest\n",
      "Accuuracy: 0.33178095391039025\n",
      "precision: 0.24400669020628135\n",
      "recall: 0.933854907539118\n",
      "f1 score: 0.38691616325327827\n",
      "f2 score: 0.5965470240799637\n",
      "Confusion Matrix:\n",
      "[[ 753 4068]\n",
      " [  93 1313]]\n"
     ]
    }
   ],
   "source": [
    "rf_tune.fit(X_train, y_train)\n",
    "y_pred_rf = rf_tune.predict(X_test)\n",
    "print(\"Random Forest\")\n",
    "print(\"Accuuracy:\", metrics.accuracy_score(y_test, y_pred_rf))\n",
    "print('precision:', metrics.precision_score(y_test, y_pred_rf))\n",
    "print('recall:', metrics.recall_score(y_test, y_pred_rf))\n",
    "print(\"f1 score:\", metrics.f1_score(y_test, y_pred_rf))\n",
    "print(\"f2 score:\", metrics.fbeta_score(y_test, y_pred_rf, beta = 2))\n",
    "print(\"Confusion Matrix:\")\n",
    "print(metrics.confusion_matrix(y_test, y_pred_rf))"
   ]
  },
  {
   "cell_type": "code",
   "execution_count": 149,
   "metadata": {},
   "outputs": [
    {
     "name": "stdout",
     "output_type": "stream",
     "text": [
      "KNN\n",
      "Accuuracy: 0.7191263850971575\n",
      "precision: 0.37305699481865284\n",
      "recall: 0.3584637268847795\n",
      "f1 score: 0.3656147986942329\n",
      "f2 score: 0.3612903225806452\n",
      "Confusion Matrix:\n",
      "[[3974  847]\n",
      " [ 902  504]]\n"
     ]
    }
   ],
   "source": [
    "knn_tune.fit(X_train, y_train)\n",
    "y_pred_knn = knn_tune.predict(X_test)\n",
    "print(\"KNN\")\n",
    "print(\"Accuuracy:\", metrics.accuracy_score(y_test, y_pred_knn))\n",
    "print('precision:', metrics.precision_score(y_test, y_pred_knn))\n",
    "print('recall:', metrics.recall_score(y_test, y_pred_knn))\n",
    "print(\"f1 score:\", metrics.f1_score(y_test, y_pred_knn))\n",
    "print(\"f2 score:\", metrics.fbeta_score(y_test, y_pred_knn, beta = 2))\n",
    "print(\"Confusion Matrix:\")\n",
    "print(metrics.confusion_matrix(y_test, y_pred_knn))"
   ]
  },
  {
   "cell_type": "code",
   "execution_count": 150,
   "metadata": {},
   "outputs": [
    {
     "name": "stdout",
     "output_type": "stream",
     "text": [
      "GradientBoosting\n",
      "Accuuracy: 0.8103420587762967\n",
      "precision: 0.6577840112201964\n",
      "recall: 0.3335704125177809\n",
      "f1 score: 0.44266163284568194\n",
      "f2 score: 0.3700489190468676\n",
      "Confusion Matrix:\n",
      "[[4577  244]\n",
      " [ 937  469]]\n"
     ]
    }
   ],
   "source": [
    "gb_tune.fit(X_train, y_train)\n",
    "y_pred_gb = gb_tune.predict(X_test)\n",
    "print(\"GradientBoosting\")\n",
    "print(\"Accuuracy:\", metrics.accuracy_score(y_test, y_pred_gb))\n",
    "print('precision:', metrics.precision_score(y_test, y_pred_gb))\n",
    "print('recall:', metrics.recall_score(y_test, y_pred_gb))\n",
    "print(\"f1 score:\", metrics.f1_score(y_test, y_pred_gb))\n",
    "print(\"f2 score:\", metrics.fbeta_score(y_test, y_pred_gb, beta = 2))\n",
    "print(\"Confusion Matrix:\")\n",
    "print(metrics.confusion_matrix(y_test, y_pred_gb))"
   ]
  },
  {
   "cell_type": "code",
   "execution_count": 151,
   "metadata": {},
   "outputs": [
    {
     "name": "stdout",
     "output_type": "stream",
     "text": [
      "GaussianNB\n",
      "Accuuracy: 0.8146780150955516\n",
      "precision: 0.6926605504587156\n",
      "recall: 0.32219061166429586\n",
      "f1 score: 0.43980582524271844\n",
      "f2 score: 0.3607836890729531\n",
      "Confusion Matrix:\n",
      "[[4620  201]\n",
      " [ 953  453]]\n"
     ]
    }
   ],
   "source": [
    "gnb.fit(X_train, y_train)\n",
    "y_pred_gnb = gnb.predict(X_test)\n",
    "print(\"GaussianNB\")\n",
    "print(\"Accuuracy:\", metrics.accuracy_score(y_test, y_pred_gnb))\n",
    "print('precision:', metrics.precision_score(y_test, y_pred_gnb))\n",
    "print('recall:', metrics.recall_score(y_test, y_pred_gnb))\n",
    "print(\"f1 score:\", metrics.f1_score(y_test, y_pred_gnb))\n",
    "print(\"f2 score:\", metrics.fbeta_score(y_test, y_pred_gnb, beta = 2))\n",
    "print(\"Confusion Matrix:\")\n",
    "print(metrics.confusion_matrix(y_test, y_pred_gnb))"
   ]
  },
  {
   "cell_type": "code",
   "execution_count": 152,
   "metadata": {},
   "outputs": [
    {
     "name": "stdout",
     "output_type": "stream",
     "text": [
      "VotingClassifier:\n",
      "Accuuracy: 0.8047213746587442\n",
      "precision: 0.6353276353276354\n",
      "recall: 0.31721194879089615\n",
      "f1 score: 0.42314990512333966\n",
      "f2 score: 0.35251343661081247\n",
      "Confusion Matrix:\n",
      "[[4565  256]\n",
      " [ 960  446]]\n",
      "StackingClassifier:\n",
      "Accuuracy: 0.8140356511964028\n",
      "precision: 0.6802325581395349\n",
      "recall: 0.3328591749644381\n",
      "f1 score: 0.4469914040114613\n",
      "f2 score: 0.37072243346007605\n",
      "Confusion Matrix:\n",
      "[[4601  220]\n",
      " [ 938  468]]\n"
     ]
    }
   ],
   "source": [
    "#voting & stacking\n",
    "#estimator\n",
    "es = (('rf_tune',RandomForestClassifier(n_estimators = 500,max_depth = 11, max_features = 3, min_samples_leaf = 10, min_samples_split = 30 )),\n",
    "      ('knn_tune',KNeighborsClassifier(n_neighbors = 1, p = 2, weights = 'uniform')), \n",
    "      ('gb_tune', GradientBoostingClassifier(learning_rate=0.1, n_estimators=100,max_depth=13,min_samples_split = 200,min_samples_leaf =120,  max_features='sqrt', subsample=0.9, random_state=10)), \n",
    "      ('gnb', naive_bayes.GaussianNB()))\n",
    "\n",
    "vot = VotingClassifier(estimators = es, voting='soft')\n",
    "vot.fit(X_train,y_train)\n",
    "y_pred_vot = vot.predict(X_test)\n",
    "\n",
    "print(\"VotingClassifier:\")\n",
    "print(\"Accuuracy:\", accuracy_score(y_test, y_pred_vot))\n",
    "print('precision:', metrics.precision_score(y_test, y_pred_vot))\n",
    "print('recall:', metrics.recall_score(y_test, y_pred_vot))\n",
    "print(\"f1 score:\", metrics.f1_score(y_test, y_pred_vot))\n",
    "print(\"f2 score:\", metrics.fbeta_score(y_test, y_pred_vot, beta = 2))\n",
    "print(\"Confusion Matrix:\")\n",
    "print(metrics.confusion_matrix(y_test, y_pred_vot))\n",
    "\n",
    "stack = StackingClassifier(estimators = es, cv = model_selection.StratifiedKFold(n_splits = 10, shuffle = True, random_state = 2020), n_jobs=-1)\n",
    "stack.fit(X_train,y_train)\n",
    "y_pred_stack = stack.predict(X_test)\n",
    "\n",
    "print(\"StackingClassifier:\")      \n",
    "print(\"Accuuracy:\", accuracy_score(y_test, y_pred_stack))\n",
    "print('precision:', metrics.precision_score(y_test, y_pred_stack))\n",
    "print('recall:', metrics.recall_score(y_test, y_pred_stack))\n",
    "print(\"f1 score:\", metrics.f1_score(y_test, y_pred_stack))\n",
    "print(\"f2 score:\", metrics.fbeta_score(y_test, y_pred_stack, beta = 2))\n",
    "print(\"Confusion Matrix:\")\n",
    "print(metrics.confusion_matrix(y_test, y_pred_stack))"
   ]
  },
  {
   "cell_type": "code",
   "execution_count": 153,
   "metadata": {},
   "outputs": [],
   "source": [
    "y_prob_gnb = gnb.predict_proba(X_test)              \n",
    "fpr_gnb, tpr_gnb, _ = metrics.roc_curve(y_test, y_prob_gnb[:,1])      \n",
    "auc_roc_gnb = metrics.auc(fpr_gnb, tpr_gnb)\n",
    "\n",
    "y_prob_knn_tune = knn_tune.predict_proba(X_test)\n",
    "fpr_knn_tune, tpr_knn_tune, _ = metrics.roc_curve(y_test, y_prob_knn_tune[:,1])\n",
    "auc_roc_knn_tune = metrics.auc(fpr_knn_tune, tpr_knn_tune)\n",
    "\n",
    "y_prob_gb_tune = gb_tune.predict_proba(X_test)\n",
    "fpr_gb_tune, tpr_gb_tune, _ = metrics.roc_curve(y_test, y_prob_gb_tune[:,1])\n",
    "auc_roc_gb_tune = metrics.auc(fpr_gb_tune, tpr_gb_tune)\n",
    "\n",
    "y_prob_rf_tune = rf_tune.predict_proba(X_test)\n",
    "fpr_rf_tune, tpr_rf_tune, _ = metrics.roc_curve(y_test, y_prob_rf_tune[:,1])\n",
    "auc_roc_rf_tune = metrics.auc(fpr_rf_tune, tpr_rf_tune)\n",
    "\n",
    "y_prob_vot = vot.predict_proba(X_test)\n",
    "fpr_vot, tpr_vot, _ = metrics.roc_curve(y_test, y_prob_vot[:,1])\n",
    "auc_roc_vot = metrics.auc(fpr_vot, tpr_vot)\n",
    "\n",
    "y_prob_stack = stack.predict_proba(X_test)\n",
    "fpr_stack, tpr_stack, _ = metrics.roc_curve(y_test, y_prob_stack[:,1])\n",
    "auc_roc_stack = metrics.auc(fpr_stack, tpr_stack)"
   ]
  },
  {
   "cell_type": "code",
   "execution_count": 154,
   "metadata": {},
   "outputs": [
    {
     "data": {
      "image/png": "[encoded data removed]",
      "text/plain": [
       "<Figure size 432x288 with 1 Axes>"
      ]
     },
     "metadata": {
      "needs_background": "light"
     },
     "output_type": "display_data"
    }
   ],
   "source": [
    "import matplotlib.pyplot as plt\n",
    "%matplotlib inline          \n",
    "\n",
    "\n",
    "plt.plot(fpr_gnb, tpr_gnb, c = 'b', label = 'ROC curve for GaussianNB (area = %0.4f)' % auc_roc_gnb)\n",
    "plt.plot(fpr_knn_tune, tpr_knn_tune, c = 'r', label = 'ROC curve for KNeighborsClassifier (area = %0.4f)' % auc_roc_knn_tune)\n",
    "plt.plot(fpr_gb_tune, tpr_gb_tune, c = 'm', label = 'ROC curve for GradientBoostingClassifier (area = %0.4f)' % auc_roc_gb_tune)\n",
    "plt.plot(fpr_rf_tune, tpr_rf_tune, c = 'g', label = 'ROC curve for RandomForestClassifier (area = %0.4f)' % auc_roc_rf_tune)\n",
    "plt.plot(fpr_vot, tpr_vot, c = 'y', label = 'ROC curve for Voting (area = %0.4f)' % auc_roc_vot)\n",
    "plt.plot(fpr_stack, tpr_stack, c = 'c', label = 'ROC curve for Stacking (area = %0.4f)' % auc_roc_stack)\n",
    "\n",
    "\n",
    "plt.plot([0, 1], [0, 1], c = 'gray', ls = '--')\n",
    "plt.xlim([0.0, 1.1])\n",
    "plt.ylim([0.0, 1.05])\n",
    "plt.xlabel('False Positive Rate')\n",
    "plt.ylabel('True Positive Rate')          \n",
    "plt.legend(loc=[1, 0])\n",
    "plt.show()"
   ]
  },
  {
   "cell_type": "code",
   "execution_count": null,
   "metadata": {},
   "outputs": [],
   "source": []
  }
 ],
 "metadata": {
  "kernelspec": {
   "display_name": "Python 3",
   "language": "python",
   "name": "python3"
  },
  "language_info": {
   "codemirror_mode": {
    "name": "ipython",
    "version": 3
   },
   "file_extension": ".py",
   "mimetype": "text/x-python",
   "name": "python",
   "nbconvert_exporter": "python",
   "pygments_lexer": "ipython3",
   "version": "3.7.4"
  }
 },
 "nbformat": 4,
 "nbformat_minor": 4
}
